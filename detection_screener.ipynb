{
 "cells": [
  {
   "cell_type": "code",
   "execution_count": 2,
   "id": "ba0fbfe2-7cc2-4963-8836-491f4bf6642e",
   "metadata": {
    "tags": []
   },
   "outputs": [],
   "source": [
    "#load in neccessary libraries \n",
    "import requests\n",
    "import bs4\n",
    "import pandas as pd \n",
    "import yfinance as yf \n",
    "import email \n",
    "import datetime \n",
    "from yahoo_fin import stock_info as si\n",
    "import numpy as np"
   ]
  },
  {
   "cell_type": "code",
   "execution_count": 26,
   "id": "659bcc1b-a839-407b-a8ac-9e3ecc9ec448",
   "metadata": {
    "tags": []
   },
   "outputs": [
    {
     "ename": "FileNotFoundError",
     "evalue": "[Errno 2] No such file or directory: 'sagemaker-studiolab-notebooks/Access.txt'",
     "output_type": "error",
     "traceback": [
      "\u001b[0;31m---------------------------------------------------------------------------\u001b[0m",
      "\u001b[0;31mFileNotFoundError\u001b[0m                         Traceback (most recent call last)",
      "\u001b[0;32m/tmp/ipykernel_142/982309724.py\u001b[0m in \u001b[0;36m<cell line: 2>\u001b[0;34m()\u001b[0m\n\u001b[1;32m      1\u001b[0m \u001b[0mfile_path\u001b[0m \u001b[0;34m=\u001b[0m \u001b[0;34m'sagemaker-studiolab-notebooks/Access.txt'\u001b[0m  \u001b[0;31m#read in confidential access keys DO NOT PRINT\u001b[0m\u001b[0;34m\u001b[0m\u001b[0;34m\u001b[0m\u001b[0m\n\u001b[0;32m----> 2\u001b[0;31m \u001b[0;32mwith\u001b[0m \u001b[0mopen\u001b[0m\u001b[0;34m(\u001b[0m\u001b[0mfile_path\u001b[0m\u001b[0;34m,\u001b[0m \u001b[0;34m'r'\u001b[0m\u001b[0;34m)\u001b[0m \u001b[0;32mas\u001b[0m \u001b[0mfile\u001b[0m\u001b[0;34m:\u001b[0m\u001b[0;34m\u001b[0m\u001b[0;34m\u001b[0m\u001b[0m\n\u001b[0m\u001b[1;32m      3\u001b[0m     \u001b[0mcontent\u001b[0m \u001b[0;34m=\u001b[0m \u001b[0mfile\u001b[0m\u001b[0;34m.\u001b[0m\u001b[0mread\u001b[0m\u001b[0;34m(\u001b[0m\u001b[0;34m)\u001b[0m\u001b[0;34m\u001b[0m\u001b[0;34m\u001b[0m\u001b[0m\n",
      "\u001b[0;31mFileNotFoundError\u001b[0m: [Errno 2] No such file or directory: 'sagemaker-studiolab-notebooks/Access.txt'"
     ]
    }
   ],
   "source": [
    "file_path = 'sagemaker-studiolab-notebooks/Access.txt'  #read in confidential access keys DO NOT PRINT \n",
    "with open(file_path, 'r') as file:\n",
    "    content = file.read()"
   ]
  },
  {
   "cell_type": "code",
   "execution_count": 3,
   "id": "b6e77580-0d63-49b6-8256-eb99ba02f054",
   "metadata": {},
   "outputs": [],
   "source": [
    "#function fetches stock symbols for U.S. stock exchanges and takes a single exchange as a parameter\n",
    "def get_US_stock_list(exchange):\n",
    "    headers = {\n",
    "      'authority': 'api.nasdaq.com',\n",
    "      'accept': 'application/json, text/plain, */*',\n",
    "      'user-agent': 'Mozilla/5.0 (Windows NT 10.0; Win64; x64) AppleWebKit/537.36 (KHTML, like Gecko) Chrome/87.0.4280.141 Safari/537.36',\n",
    "      'origin': 'https://www.nasdaq.com',\n",
    "      'sec-fetch-site': 'same-site',\n",
    "      'sec-fetch-mode': 'cors',\n",
    "      'sec-fetch-dest': 'empty',\n",
    "      'referer': 'https://www.nasdaq.com/',\n",
    "      'accept-language': 'en-US,en;q=0.9',\n",
    "  }\n",
    "\n",
    "    params = (\n",
    "      ('tableonly', 'true'),\n",
    "      ('limit', '25'),  \n",
    "      ('offset', '0'),\n",
    "      ('download', 'true'),\n",
    "      ('exchange', exchange)\n",
    "  )\n",
    "\n",
    "    r = requests.get('https://api.nasdaq.com/api/screener/stocks', headers=headers, params=params)\n",
    "    data = r.json()['data']\n",
    "    df = pd.DataFrame(data['rows'], columns=data['headers'])\n",
    "    df_filtered = df[~df['symbol'].str.contains(\"\\.|\\^|\\s\")]\n",
    "    return df_filtered['symbol'].tolist()"
   ]
  },
  {
   "cell_type": "code",
   "execution_count": 21,
   "id": "92e8c6ad-fc17-4dee-9013-6bc7dbf38f39",
   "metadata": {
    "tags": []
   },
   "outputs": [
    {
     "name": "stdout",
     "output_type": "stream",
     "text": [
      "The nyse stock exchange contains 2504 stocks. The nasdaq stock exchange contains 4279 stocks. Resulting in a total of 6783 stocks to detect from.\n"
     ]
    }
   ],
   "source": [
    "#create a single list from the two largest US exchanges\n",
    "stock_list_nasdaq = pd.DataFrame({'symbol' : get_US_stock_list('nasdaq')})\n",
    "stock_list_nyse = pd.DataFrame({'symbol' : get_US_stock_list('nyse')})\n",
    "stock_list_nasdaq.loc[:,'exchange'] = 'nasdaq'\n",
    "stock_list_nyse.loc[:,'exchange'] = 'nyse'\n",
    "\n",
    "\n",
    "stock_list = pd.concat([stock_list_nasdaq, stock_list_nyse])\n",
    "stock_list.to_csv('datasets/stock_list.csv')\n",
    "\n",
    "print('The nyse stock exchange contains ' + str(len(stock_list_nyse)) + ' stocks. The nasdaq stock exchange contains ' + \n",
    "      str(len(stock_list_nasdaq)) + ' stocks. Resulting in a total of ' + str(len(stock_list)) + ' stocks to detect from.')\n"
   ]
  },
  {
   "cell_type": "code",
   "execution_count": 22,
   "id": "b41a2907-9dc9-4489-9492-17979c8e5d15",
   "metadata": {
    "tags": []
   },
   "outputs": [
    {
     "data": {
      "text/html": [
       "<div>\n",
       "<style scoped>\n",
       "    .dataframe tbody tr th:only-of-type {\n",
       "        vertical-align: middle;\n",
       "    }\n",
       "\n",
       "    .dataframe tbody tr th {\n",
       "        vertical-align: top;\n",
       "    }\n",
       "\n",
       "    .dataframe thead th {\n",
       "        text-align: right;\n",
       "    }\n",
       "</style>\n",
       "<table border=\"1\" class=\"dataframe\">\n",
       "  <thead>\n",
       "    <tr style=\"text-align: right;\">\n",
       "      <th></th>\n",
       "      <th>symbol</th>\n",
       "      <th>exchange</th>\n",
       "    </tr>\n",
       "  </thead>\n",
       "  <tbody>\n",
       "    <tr>\n",
       "      <th>0</th>\n",
       "      <td>AACG</td>\n",
       "      <td>nasdaq</td>\n",
       "    </tr>\n",
       "    <tr>\n",
       "      <th>1</th>\n",
       "      <td>AACIW</td>\n",
       "      <td>nasdaq</td>\n",
       "    </tr>\n",
       "    <tr>\n",
       "      <th>2</th>\n",
       "      <td>AADI</td>\n",
       "      <td>nasdaq</td>\n",
       "    </tr>\n",
       "    <tr>\n",
       "      <th>3</th>\n",
       "      <td>AAL</td>\n",
       "      <td>nasdaq</td>\n",
       "    </tr>\n",
       "    <tr>\n",
       "      <th>4</th>\n",
       "      <td>AAME</td>\n",
       "      <td>nasdaq</td>\n",
       "    </tr>\n",
       "    <tr>\n",
       "      <th>...</th>\n",
       "      <td>...</td>\n",
       "      <td>...</td>\n",
       "    </tr>\n",
       "    <tr>\n",
       "      <th>2499</th>\n",
       "      <td>ZTR</td>\n",
       "      <td>nyse</td>\n",
       "    </tr>\n",
       "    <tr>\n",
       "      <th>2500</th>\n",
       "      <td>ZTS</td>\n",
       "      <td>nyse</td>\n",
       "    </tr>\n",
       "    <tr>\n",
       "      <th>2501</th>\n",
       "      <td>ZUO</td>\n",
       "      <td>nyse</td>\n",
       "    </tr>\n",
       "    <tr>\n",
       "      <th>2502</th>\n",
       "      <td>ZVIA</td>\n",
       "      <td>nyse</td>\n",
       "    </tr>\n",
       "    <tr>\n",
       "      <th>2503</th>\n",
       "      <td>ZWS</td>\n",
       "      <td>nyse</td>\n",
       "    </tr>\n",
       "  </tbody>\n",
       "</table>\n",
       "<p>6783 rows × 2 columns</p>\n",
       "</div>"
      ],
      "text/plain": [
       "     symbol exchange\n",
       "0      AACG   nasdaq\n",
       "1     AACIW   nasdaq\n",
       "2      AADI   nasdaq\n",
       "3       AAL   nasdaq\n",
       "4      AAME   nasdaq\n",
       "...     ...      ...\n",
       "2499    ZTR     nyse\n",
       "2500    ZTS     nyse\n",
       "2501    ZUO     nyse\n",
       "2502   ZVIA     nyse\n",
       "2503    ZWS     nyse\n",
       "\n",
       "[6783 rows x 2 columns]"
      ]
     },
     "execution_count": 22,
     "metadata": {},
     "output_type": "execute_result"
    }
   ],
   "source": [
    "stock_list"
   ]
  },
  {
   "cell_type": "code",
   "execution_count": null,
   "id": "ccde01b9-6bc7-4030-9c56-92d15e0ec4be",
   "metadata": {},
   "outputs": [],
   "source": []
  }
 ],
 "metadata": {
  "kernelspec": {
   "display_name": "default:Python",
   "language": "python",
   "name": "conda-env-default-py"
  },
  "language_info": {
   "codemirror_mode": {
    "name": "ipython",
    "version": 3
   },
   "file_extension": ".py",
   "mimetype": "text/x-python",
   "name": "python",
   "nbconvert_exporter": "python",
   "pygments_lexer": "ipython3",
   "version": "3.9.16"
  }
 },
 "nbformat": 4,
 "nbformat_minor": 5
}
