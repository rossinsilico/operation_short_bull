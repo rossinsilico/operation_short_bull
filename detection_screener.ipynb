{
 "cells": [
  {
   "cell_type": "code",
   "execution_count": 9,
   "id": "2a67735b-c09a-417b-9efd-67ee838c5786",
   "metadata": {
    "tags": []
   },
   "outputs": [
    {
     "name": "stdout",
     "output_type": "stream",
     "text": [
      "Requirement already satisfied: yfinance in /home/studio-lab-user/.conda/envs/default/lib/python3.9/site-packages (0.2.26)\n",
      "Requirement already satisfied: appdirs>=1.4.4 in /home/studio-lab-user/.conda/envs/default/lib/python3.9/site-packages (from yfinance) (1.4.4)\n",
      "Requirement already satisfied: numpy>=1.16.5 in /home/studio-lab-user/.conda/envs/default/lib/python3.9/site-packages (from yfinance) (1.25.1)\n",
      "Requirement already satisfied: requests>=2.31 in /home/studio-lab-user/.conda/envs/default/lib/python3.9/site-packages (from yfinance) (2.31.0)\n",
      "Requirement already satisfied: lxml>=4.9.1 in /home/studio-lab-user/.conda/envs/default/lib/python3.9/site-packages (from yfinance) (4.9.3)\n",
      "Requirement already satisfied: pandas>=1.3.0 in /home/studio-lab-user/.conda/envs/default/lib/python3.9/site-packages (from yfinance) (2.0.3)\n",
      "Requirement already satisfied: multitasking>=0.0.7 in /home/studio-lab-user/.conda/envs/default/lib/python3.9/site-packages (from yfinance) (0.0.11)\n",
      "Requirement already satisfied: html5lib>=1.1 in /home/studio-lab-user/.conda/envs/default/lib/python3.9/site-packages (from yfinance) (1.1)\n",
      "Requirement already satisfied: beautifulsoup4>=4.11.1 in /home/studio-lab-user/.conda/envs/default/lib/python3.9/site-packages (from yfinance) (4.12.0)\n",
      "Requirement already satisfied: pytz>=2022.5 in /home/studio-lab-user/.conda/envs/default/lib/python3.9/site-packages (from yfinance) (2023.3)\n",
      "Requirement already satisfied: frozendict>=2.3.4 in /home/studio-lab-user/.conda/envs/default/lib/python3.9/site-packages (from yfinance) (2.3.8)\n",
      "Requirement already satisfied: soupsieve>1.2 in /home/studio-lab-user/.conda/envs/default/lib/python3.9/site-packages (from beautifulsoup4>=4.11.1->yfinance) (2.3.2.post1)\n",
      "Requirement already satisfied: webencodings in /home/studio-lab-user/.conda/envs/default/lib/python3.9/site-packages (from html5lib>=1.1->yfinance) (0.5.1)\n",
      "Requirement already satisfied: six>=1.9 in /home/studio-lab-user/.conda/envs/default/lib/python3.9/site-packages (from html5lib>=1.1->yfinance) (1.16.0)\n",
      "Requirement already satisfied: tzdata>=2022.1 in /home/studio-lab-user/.conda/envs/default/lib/python3.9/site-packages (from pandas>=1.3.0->yfinance) (2023.3)\n",
      "Requirement already satisfied: python-dateutil>=2.8.2 in /home/studio-lab-user/.conda/envs/default/lib/python3.9/site-packages (from pandas>=1.3.0->yfinance) (2.8.2)\n",
      "Requirement already satisfied: certifi>=2017.4.17 in /home/studio-lab-user/.conda/envs/default/lib/python3.9/site-packages (from requests>=2.31->yfinance) (2023.7.22)\n",
      "Requirement already satisfied: idna<4,>=2.5 in /home/studio-lab-user/.conda/envs/default/lib/python3.9/site-packages (from requests>=2.31->yfinance) (3.4)\n",
      "Requirement already satisfied: urllib3<3,>=1.21.1 in /home/studio-lab-user/.conda/envs/default/lib/python3.9/site-packages (from requests>=2.31->yfinance) (1.26.16)\n",
      "Requirement already satisfied: charset-normalizer<4,>=2 in /home/studio-lab-user/.conda/envs/default/lib/python3.9/site-packages (from requests>=2.31->yfinance) (3.2.0)\n",
      "Requirement already satisfied: bs4 in /home/studio-lab-user/.conda/envs/default/lib/python3.9/site-packages (0.0.1)\n",
      "Requirement already satisfied: beautifulsoup4 in /home/studio-lab-user/.conda/envs/default/lib/python3.9/site-packages (from bs4) (4.12.0)\n",
      "Requirement already satisfied: soupsieve>1.2 in /home/studio-lab-user/.conda/envs/default/lib/python3.9/site-packages (from beautifulsoup4->bs4) (2.3.2.post1)\n",
      "Requirement already satisfied: requests in /home/studio-lab-user/.conda/envs/default/lib/python3.9/site-packages (2.31.0)\n",
      "Requirement already satisfied: urllib3<3,>=1.21.1 in /home/studio-lab-user/.conda/envs/default/lib/python3.9/site-packages (from requests) (1.26.16)\n",
      "Requirement already satisfied: charset-normalizer<4,>=2 in /home/studio-lab-user/.conda/envs/default/lib/python3.9/site-packages (from requests) (3.2.0)\n",
      "Requirement already satisfied: idna<4,>=2.5 in /home/studio-lab-user/.conda/envs/default/lib/python3.9/site-packages (from requests) (3.4)\n",
      "Requirement already satisfied: certifi>=2017.4.17 in /home/studio-lab-user/.conda/envs/default/lib/python3.9/site-packages (from requests) (2023.7.22)\n"
     ]
    }
   ],
   "source": [
    "!pip install yfinance\n",
    "!pip install bs4\n",
    "!pip install requests"
   ]
  },
  {
   "cell_type": "code",
   "execution_count": 10,
   "id": "ba0fbfe2-7cc2-4963-8836-491f4bf6642e",
   "metadata": {
    "tags": []
   },
   "outputs": [],
   "source": [
    "#load in neccessary libraries \n",
    "import requests\n",
    "import bs4\n",
    "import pandas as pd \n",
    "import yfinance as yf \n",
    "import email \n",
    "import datetime \n",
    "from yahoo_fin import stock_info as si\n",
    "import numpy as np"
   ]
  },
  {
   "cell_type": "code",
   "execution_count": 11,
   "id": "b6e77580-0d63-49b6-8256-eb99ba02f054",
   "metadata": {},
   "outputs": [],
   "source": [
    "#function fetches stock symbols for U.S. stock exchanges and takes a single exchange as a parameter\n",
    "def get_US_stock_list(exchange):\n",
    "    headers = {\n",
    "      'authority': 'api.nasdaq.com',\n",
    "      'accept': 'application/json, text/plain, */*',\n",
    "      'user-agent': 'Mozilla/5.0 (Windows NT 10.0; Win64; x64) AppleWebKit/537.36 (KHTML, like Gecko) Chrome/87.0.4280.141 Safari/537.36',\n",
    "      'origin': 'https://www.nasdaq.com',\n",
    "      'sec-fetch-site': 'same-site',\n",
    "      'sec-fetch-mode': 'cors',\n",
    "      'sec-fetch-dest': 'empty',\n",
    "      'referer': 'https://www.nasdaq.com/',\n",
    "      'accept-language': 'en-US,en;q=0.9',\n",
    "  }\n",
    "\n",
    "    params = (\n",
    "      ('tableonly', 'true'),\n",
    "      ('offset', '0'),\n",
    "      ('download', 'true'),\n",
    "      ('exchange', exchange)\n",
    "  )\n",
    "\n",
    "    r = requests.get('https://api.nasdaq.com/api/screener/stocks', headers=headers, params=params)\n",
    "    data = r.json()['data']\n",
    "    df = pd.DataFrame(data['rows'], columns=data['headers'])\n",
    "    df_filtered = df[~df['symbol'].str.contains(\"\\.|\\^|\\s\")]\n",
    "    return df_filtered['symbol'].tolist()"
   ]
  },
  {
   "cell_type": "code",
   "execution_count": 12,
   "id": "92e8c6ad-fc17-4dee-9013-6bc7dbf38f39",
   "metadata": {
    "tags": []
   },
   "outputs": [
    {
     "name": "stdout",
     "output_type": "stream",
     "text": [
      "The nyse stock exchange contains 2518 stocks. The nasdaq stock exchange contains 4400 resulting in a total of 6918 stocks to detect from.\n"
     ]
    }
   ],
   "source": [
    "#create a single list from the two largest US exchanges\n",
    "stock_list_nasdaq = get_US_stock_list('nasdaq')\n",
    "stock_list_nyse = get_US_stock_list('nyse')\n",
    "stock_list = stock_list_nasdaq + stock_list_nyse\n",
    "\n",
    "print('The nyse stock exchange contains ' + str(len(stock_list_nyse)) + ' stocks. The nasdaq stock exchange contains ' + str(len(stock_list_nasdaq)) + \n",
    "      ' resulting in a total of ' + str(len(stock_list)) + ' stocks to detect from.')\n"
   ]
  },
  {
   "cell_type": "code",
   "execution_count": null,
   "id": "de343384-ad3d-4193-a479-3bdf4d7aef07",
   "metadata": {},
   "outputs": [],
   "source": []
  }
 ],
 "metadata": {
  "kernelspec": {
   "display_name": "default:Python",
   "language": "python",
   "name": "conda-env-default-py"
  },
  "language_info": {
   "codemirror_mode": {
    "name": "ipython",
    "version": 3
   },
   "file_extension": ".py",
   "mimetype": "text/x-python",
   "name": "python",
   "nbconvert_exporter": "python",
   "pygments_lexer": "ipython3",
   "version": "3.9.16"
  }
 },
 "nbformat": 4,
 "nbformat_minor": 5
}
