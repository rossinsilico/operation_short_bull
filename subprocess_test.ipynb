{
 "cells": [
  {
   "cell_type": "code",
   "execution_count": 32,
   "id": "fca6f60d-dc9b-4dde-89cb-3c625a375686",
   "metadata": {},
   "outputs": [
    {
     "name": "stdout",
     "output_type": "stream",
     "text": [
      "Output:\n",
      "\n",
      "Errors:\n",
      "stdin is not a tty\n",
      "\n"
     ]
    }
   ],
   "source": [
    "import subprocess\n",
    "from dotenv import load_dotenv\n",
    "\n",
    "load_dotenv()\n",
    "\n",
    "tool_dir = os.environ['tool_dir']\n",
    "interactive_inputs = \"s\\n\\n\"  # Update the inputs as needed\n",
    "\n",
    "# Create the command\n",
    "command = [\"winpty\", \"poetry\", \"run\", \"python\", \"src/main.py\", \"--ticker\", \"AAPL,MSFT,NVDA\", \"--ollama\"]\n",
    "\n",
    "# Run the process and capture output\n",
    "result = subprocess.run(\n",
    "    command,\n",
    "    cwd=tool_dir,\n",
    "    # stdin=subprocess.DEVNULL,  # No input needed\n",
    "    input=interactive_inputs,\n",
    "    text=True,\n",
    "    capture_output=True\n",
    ")\n",
    "\n",
    "# Print output and error (if any)\n",
    "print(\"Output:\")\n",
    "print(result.stdout)\n",
    "\n",
    "if result.stderr:\n",
    "    print(\"Errors:\")\n",
    "    print(result.stderr)\n"
   ]
  },
  {
   "cell_type": "code",
   "execution_count": null,
   "id": "d418670a-94c0-4a41-ab7e-2a1872a0b8c7",
   "metadata": {},
   "outputs": [],
   "source": []
  }
 ],
 "metadata": {
  "kernelspec": {
   "display_name": "Python 3 (ipykernel)",
   "language": "python",
   "name": "python3"
  },
  "language_info": {
   "codemirror_mode": {
    "name": "ipython",
    "version": 3
   },
   "file_extension": ".py",
   "mimetype": "text/x-python",
   "name": "python",
   "nbconvert_exporter": "python",
   "pygments_lexer": "ipython3",
   "version": "3.13.0"
  }
 },
 "nbformat": 4,
 "nbformat_minor": 5
}
